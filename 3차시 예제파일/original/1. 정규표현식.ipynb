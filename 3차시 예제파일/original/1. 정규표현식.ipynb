{
 "cells": [
  {
   "cell_type": "code",
   "execution_count": 3,
   "metadata": {},
   "outputs": [
    {
     "name": "stdout",
     "output_type": "stream",
     "text": [
      "타겟 문자열: 237489@ggg.hs.kr\n",
      "올바른 이메일 주소입니다.\n",
      "\n",
      "타겟 문자열: blog.naver.com\n",
      "올바른 이메일 주소가 아닙니다.\n",
      "\n",
      "타겟 문자열: karu@\n",
      "올바른 이메일 주소가 아닙니다.\n",
      "\n",
      "타겟 문자열: karu@naver.com\n",
      "올바른 이메일 주소입니다.\n",
      "\n",
      "타겟 문자열: 829yh2f@hola\n",
      "올바른 이메일 주소가 아닙니다.\n",
      "\n"
     ]
    }
   ],
   "source": [
    "# 정규표현식 라이브러리\n",
    "import re\n",
    "\n",
    "target_list = ['237489@ggg.hs.kr', 'blog.naver.com', 'karu@', 'karu@naver.com', '829yh2f@hola']\n",
    "regex_email = r'^[a-zA-Z0-9+-\\_.]+@[a-zA-Z0-9-]+\\.[a-zA-Z0-9-.]+$'\n",
    "\n",
    "regex = re.compile(regex_email)\n",
    "for target in target_list:\n",
    "    print(f'타겟 문자열: {target}')\n",
    "    if regex.match(target) == None:\n",
    "        print('올바른 이메일 주소가 아닙니다.\\n')\n",
    "    else:\n",
    "        print('올바른 이메일 주소입니다.\\n')\n"
   ]
  },
  {
   "cell_type": "code",
   "execution_count": 12,
   "metadata": {},
   "outputs": [
    {
     "name": "stdout",
     "output_type": "stream",
     "text": [
      "추출된 전화번호: 031-839-5080\n"
     ]
    }
   ],
   "source": [
    "regex_phone = r'\\d{2,3}-\\d{3,4}-\\d{4}'\n",
    "phone_text = '''환영합니다, Rolling Ress의 카루입니다.\n",
    "오늘은 제가 배가 고파서 짜장면을 시켜먹어볼까 해요.\n",
    "음.. 어디보자. 전단지가 어디있더라... 아, 찾았다!\n",
    "031-839-5080... 여보세요? 중국집인가요?\n",
    "아 고양국제고등학교 교무실이라고요? 죄송합니다. 잘못 걸었습니다.'''\n",
    "\n",
    "print('추출된 전화번호:', re.search(regex_phone, phone_text).group())"
   ]
  },
  {
   "cell_type": "code",
   "execution_count": 16,
   "metadata": {},
   "outputs": [
    {
     "name": "stdout",
     "output_type": "stream",
     "text": [
      "['Borachio', 'Conrade', 'Watchman']\n"
     ]
    }
   ],
   "source": [
    "script = \"\"\"\n",
    "[Borachio] What Conrade!\n",
    "[Watchman] Peace! stir not.\n",
    "[Borachio] Conrade, I say!\n",
    "[Conrade] Here, man; I am at thy elbow.\n",
    "[Borachio] Mass, and my elbow itched.\n",
    "\"\"\"\n",
    "result_list = list(set(re.findall(r'\\[(\\w+)\\]', script)))\n",
    "print(result_list)"
   ]
  }
 ],
 "metadata": {
  "kernelspec": {
   "display_name": "Python 3.9.7 ('base')",
   "language": "python",
   "name": "python3"
  },
  "language_info": {
   "codemirror_mode": {
    "name": "ipython",
    "version": 3
   },
   "file_extension": ".py",
   "mimetype": "text/x-python",
   "name": "python",
   "nbconvert_exporter": "python",
   "pygments_lexer": "ipython3",
   "version": "3.9.7"
  },
  "orig_nbformat": 4,
  "vscode": {
   "interpreter": {
    "hash": "20efb7bbc3e880fa5daaecac3f0f42ac0fcde1e987afd03e25384b1713bb4579"
   }
  }
 },
 "nbformat": 4,
 "nbformat_minor": 2
}
